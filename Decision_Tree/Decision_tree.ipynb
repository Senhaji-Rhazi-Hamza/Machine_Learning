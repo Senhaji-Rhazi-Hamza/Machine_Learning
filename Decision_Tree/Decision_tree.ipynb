{
 "cells": [
  {
   "cell_type": "code",
   "execution_count": 1,
   "metadata": {},
   "outputs": [],
   "source": [
    "import numpy as np\n",
    "import pandas as pd\n",
    "from graphviz import Digraph\n"
   ]
  },
  {
   "cell_type": "markdown",
   "metadata": {},
   "source": [
    "## -Loading datasets (df1 = Tenis Dataset , df2 = mushrooms dataset)"
   ]
  },
  {
   "cell_type": "code",
   "execution_count": 2,
   "metadata": {},
   "outputs": [],
   "source": [
    "df = pd.read_csv('data.csv')\n",
    "df2 = pd.read_csv('mushrooms.csv')"
   ]
  },
  {
   "cell_type": "markdown",
   "metadata": {},
   "source": [
    "## - Tree Decision Class"
   ]
  },
  {
   "cell_type": "code",
   "execution_count": 81,
   "metadata": {},
   "outputs": [],
   "source": [
    "class Tree:\n",
    "    def __init__(self):\n",
    "        self.sons = {}\n",
    "        self.Attribute = None\n",
    "    def add_son(self, son, att):\n",
    "        self.sons[att] = son\n",
    "    def set_att(self, att):\n",
    "        self.Attribute = att\n",
    "    def check(self, data):\n",
    "        tmpAt  = self\n",
    "        while (tmpAt.sons != {}):\n",
    "            tmpAt = tmpAt.sons[data[tmpAt.Attribute]]\n",
    "        return tmpAt.Attribute\n",
    "    def genView(self, dot):\n",
    "        label = self.Attribute\n",
    "        dot.node(str(self), label)\n",
    "        for key, son in self.sons.items():\n",
    "            dot.edge(str(self), str(son), label=key)\n",
    "            son.genView(dot)\n",
    "   "
   ]
  },
  {
   "cell_type": "markdown",
   "metadata": {},
   "source": [
    "## - Functions of decisions"
   ]
  },
  {
   "cell_type": "markdown",
   "metadata": {},
   "source": [
    "### Entropy functions"
   ]
  },
  {
   "cell_type": "code",
   "execution_count": 110,
   "metadata": {},
   "outputs": [],
   "source": [
    "def get_entropy(data,target):\n",
    "    n = len(data)\n",
    "    acc = 0\n",
    "    for c  in data[target].value_counts():\n",
    "        acc -= c/n * np.log2(c/n)\n",
    "    return acc\n",
    "def get_entropys(data, elt, target):\n",
    "    ents = 0\n",
    "    l = [x for _,x in data.groupby(elt)]\n",
    "    n = 0\n",
    "    for d in l:\n",
    "        n += len(d)\n",
    "        ents += len(d) * get_entropy(d, target)\n",
    "    return ents/n\n",
    "def get_std_gain(data, elt, target):\n",
    "    return get_entropy(data, target) - get_entropys(data, elt, target)\n",
    "def get_gain_ratio(data, elt, target):\n",
    "    d = get_entropy(data, elt)\n",
    "    return np.inf if (d == 0) else get_std_gain(data, elt, target) / d\n",
    "    "
   ]
  },
  {
   "cell_type": "markdown",
   "metadata": {},
   "source": [
    "### Gini index"
   ]
  },
  {
   "cell_type": "code",
   "execution_count": 111,
   "metadata": {},
   "outputs": [],
   "source": [
    "def get_Gini(data,target):\n",
    "    n = len(data)\n",
    "    acc = 0\n",
    "    for c  in data[target].value_counts():\n",
    "        acc -= c/n \n",
    "    return 1 - acc\n",
    "def get_Ginis(data, elt, target):\n",
    "    ents = 0\n",
    "    l = [x for _,x in data.groupby(elt)]\n",
    "    n = 0\n",
    "    for d in l:\n",
    "        n += len(d)\n",
    "        ents += len(d) * get_Gini(d, target)\n",
    "    return ents/n\n",
    "def get_std_gainG(data, elt, target):\n",
    "    return get_Gini(data, target) - get_Ginis(data, elt, target)\n",
    "def get_gain_ratioG(data, elt, target):\n",
    "    d = get_Gini(data, elt)\n",
    "    return np.inf if (d == 0) else get_std_gainG(data, elt, target) / d\n",
    "    "
   ]
  },
  {
   "cell_type": "markdown",
   "metadata": {},
   "source": [
    "## - ID3 Algorithm"
   ]
  },
  {
   "cell_type": "code",
   "execution_count": 106,
   "metadata": {},
   "outputs": [],
   "source": [
    "def ID3(data, target, func_ent):\n",
    "    root = Tree()\n",
    "    if (len(set(data[target])) == 1 ):\n",
    "        root.set_att(data[target].values[0])     \n",
    "    else:\n",
    "        lis_ent = []\n",
    "        for elt in data:\n",
    "            if(elt == target):\n",
    "                lis_ent.append(-np.inf)\n",
    "                continue\n",
    "            ent = func_ent(data, elt, target)\n",
    "            lis_ent.append(ent)\n",
    "            indop = np.argmax(lis_ent)        \n",
    "            optimal = data.columns[indop]\n",
    "            root.set_att(optimal)\n",
    "        for d in [(att, x) for att,x in data.groupby(optimal)]:\n",
    "            root.add_son(ID3(d[1].loc[:, d[1].columns != optimal], target, func_ent), d[0])\n",
    "    return root"
   ]
  },
  {
   "cell_type": "markdown",
   "metadata": {},
   "source": [
    " ## Tenis Dataset standard information Gain "
   ]
  },
  {
   "cell_type": "code",
   "execution_count": 107,
   "metadata": {},
   "outputs": [
    {
     "data": {
      "text/plain": [
       "'Digraph.gv.pdf'"
      ]
     },
     "execution_count": 107,
     "metadata": {},
     "output_type": "execute_result"
    }
   ],
   "source": [
    "target = 'PlayTennis'\n",
    "tree = ID3(df, target, get_std_gain)\n",
    "dot = Digraph(comment=\"Decision tree\")\n",
    "tree.genView(dot)\n",
    "dot.view(cleanup=True)"
   ]
  },
  {
   "cell_type": "code",
   "execution_count": 95,
   "metadata": {},
   "outputs": [
    {
     "data": {
      "text/plain": [
       "True"
      ]
     },
     "execution_count": 95,
     "metadata": {},
     "output_type": "execute_result"
    }
   ],
   "source": [
    "#check that all classifications are correct\n",
    "np.all(np.array([tree.check(df.loc[i]) == df.loc[i][target] for i in range(len(df))]))"
   ]
  },
  {
   "cell_type": "markdown",
   "metadata": {},
   "source": [
    " ## Tenis Dataset  Gain ratio"
   ]
  },
  {
   "cell_type": "code",
   "execution_count": 86,
   "metadata": {},
   "outputs": [
    {
     "data": {
      "text/plain": [
       "'Digraph.gv.pdf'"
      ]
     },
     "execution_count": 86,
     "metadata": {},
     "output_type": "execute_result"
    }
   ],
   "source": [
    "tree = ID3(df, target, get_gain_ratio)\n",
    "dot = Digraph(comment=\"Decision tree\")\n",
    "tree.genView(dot)\n",
    "dot.view(cleanup=True)"
   ]
  },
  {
   "cell_type": "code",
   "execution_count": 87,
   "metadata": {},
   "outputs": [
    {
     "data": {
      "text/plain": [
       "True"
      ]
     },
     "execution_count": 87,
     "metadata": {},
     "output_type": "execute_result"
    }
   ],
   "source": [
    "#check that all classifications are correct\n",
    "np.all(np.array([tree.check(df.loc[i]) == df.loc[i][target] for i in range(len(df))]))"
   ]
  },
  {
   "cell_type": "markdown",
   "metadata": {},
   "source": [
    "## Mushrooms Dataset standard information Gain"
   ]
  },
  {
   "cell_type": "code",
   "execution_count": 88,
   "metadata": {},
   "outputs": [
    {
     "data": {
      "text/plain": [
       "'Digraph.gv.pdf'"
      ]
     },
     "execution_count": 88,
     "metadata": {},
     "output_type": "execute_result"
    }
   ],
   "source": [
    "target2 = 'type'\n",
    "tree2 = ID3(df2, target2, get_std_gain)\n",
    "dot = Digraph(comment=\"Decision tree\")\n",
    "tree2.genView(dot)\n",
    "dot.view(cleanup=True)"
   ]
  },
  {
   "cell_type": "code",
   "execution_count": 89,
   "metadata": {},
   "outputs": [
    {
     "data": {
      "text/plain": [
       "True"
      ]
     },
     "execution_count": 89,
     "metadata": {},
     "output_type": "execute_result"
    }
   ],
   "source": [
    "#check that all classifications are correct\n",
    "np.all(np.array([tree2.check(df2.loc[i]) == df2.loc[i][target2] for i in range(len(df2))]))"
   ]
  },
  {
   "cell_type": "markdown",
   "metadata": {},
   "source": [
    "## Mushrooms Dataset Gain ratio"
   ]
  },
  {
   "cell_type": "code",
   "execution_count": 108,
   "metadata": {},
   "outputs": [
    {
     "data": {
      "text/plain": [
       "'Digraph.gv.pdf'"
      ]
     },
     "execution_count": 108,
     "metadata": {},
     "output_type": "execute_result"
    }
   ],
   "source": [
    "target2 = 'type'\n",
    "tree2 = ID3(df2, target2, get_gain_ratio)\n",
    "dot = Digraph(comment=\"Decision tree\")\n",
    "tree2.genView(dot)\n",
    "dot.view(cleanup=True)"
   ]
  },
  {
   "cell_type": "code",
   "execution_count": 97,
   "metadata": {},
   "outputs": [
    {
     "data": {
      "text/plain": [
       "True"
      ]
     },
     "execution_count": 97,
     "metadata": {},
     "output_type": "execute_result"
    }
   ],
   "source": [
    "#check that all classifications are correct\n",
    "np.all(np.array([tree2.check(df2.loc[i]) == df2.loc[i][target2] for i in range(len(df2))]))"
   ]
  },
  {
   "cell_type": "markdown",
   "metadata": {},
   "source": [
    "## Use of Gini index instead of Entropy"
   ]
  },
  {
   "cell_type": "code",
   "execution_count": 112,
   "metadata": {},
   "outputs": [
    {
     "data": {
      "text/plain": [
       "'Digraph.gv.pdf'"
      ]
     },
     "execution_count": 112,
     "metadata": {},
     "output_type": "execute_result"
    }
   ],
   "source": [
    "target = 'PlayTennis'\n",
    "tree = ID3(df, target, get_std_gainG)\n",
    "dot = Digraph(comment=\"Decision tree\")\n",
    "tree.genView(dot)\n",
    "dot.view(cleanup=True)"
   ]
  },
  {
   "cell_type": "code",
   "execution_count": 114,
   "metadata": {},
   "outputs": [
    {
     "data": {
      "text/plain": [
       "'Digraph.gv.pdf'"
      ]
     },
     "execution_count": 114,
     "metadata": {},
     "output_type": "execute_result"
    }
   ],
   "source": [
    "tree = ID3(df, target, get_gain_ratioG)\n",
    "dot = Digraph(comment=\"Decision tree\")\n",
    "tree.genView(dot)\n",
    "dot.view(cleanup=True)"
   ]
  },
  {
   "cell_type": "code",
   "execution_count": 115,
   "metadata": {},
   "outputs": [
    {
     "data": {
      "text/plain": [
       "'Digraph.gv.pdf'"
      ]
     },
     "execution_count": 115,
     "metadata": {},
     "output_type": "execute_result"
    }
   ],
   "source": [
    "target2 = 'type'\n",
    "tree2 = ID3(df2, target2, get_std_gainG)\n",
    "dot = Digraph(comment=\"Decision tree\")\n",
    "tree2.genView(dot)\n",
    "dot.view(cleanup=True)"
   ]
  },
  {
   "cell_type": "code",
   "execution_count": 116,
   "metadata": {},
   "outputs": [
    {
     "data": {
      "text/plain": [
       "'Digraph.gv.pdf'"
      ]
     },
     "execution_count": 116,
     "metadata": {},
     "output_type": "execute_result"
    }
   ],
   "source": [
    "target2 = 'type'\n",
    "tree2 = ID3(df2, target2, get_gain_ratioG)\n",
    "dot = Digraph(comment=\"Decision tree\")\n",
    "tree2.genView(dot)\n",
    "dot.view(cleanup=True)"
   ]
  },
  {
   "cell_type": "markdown",
   "metadata": {},
   "source": [
    "### Remark\n",
    "The use of Gini Index give much bigger Trees"
   ]
  },
  {
   "cell_type": "code",
   "execution_count": null,
   "metadata": {},
   "outputs": [],
   "source": []
  }
 ],
 "metadata": {
  "kernelspec": {
   "display_name": "Python 3",
   "language": "python",
   "name": "python3"
  },
  "language_info": {
   "codemirror_mode": {
    "name": "ipython",
    "version": 3
   },
   "file_extension": ".py",
   "mimetype": "text/x-python",
   "name": "python",
   "nbconvert_exporter": "python",
   "pygments_lexer": "ipython3",
   "version": "3.5.2"
  }
 },
 "nbformat": 4,
 "nbformat_minor": 2
}
