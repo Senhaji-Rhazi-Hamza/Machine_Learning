{
 "cells": [
  {
   "cell_type": "code",
   "execution_count": 2,
   "metadata": {},
   "outputs": [],
   "source": [
    "import numpy as np\n",
    "import pandas as pd\n",
    "from graphviz import Digraph\n",
    "import sys\n"
   ]
  },
  {
   "cell_type": "code",
   "execution_count": 5,
   "metadata": {},
   "outputs": [],
   "source": [
    "df = pd.read_csv('../ressources/tennis.csv')\n"
   ]
  },
  {
   "cell_type": "code",
   "execution_count": 9,
   "metadata": {},
   "outputs": [],
   "source": [
    "df2 = pd.read_csv('../ressources/mushrooms.csv')"
   ]
  },
  {
   "cell_type": "code",
   "execution_count": 10,
   "metadata": {},
   "outputs": [],
   "source": [
    "class Tree:\n",
    "    def __init__(self):\n",
    "        self.sons = {}\n",
    "        self.Attribute = None\n",
    "    def add_son(self, son, att):\n",
    "        self.sons[att] = son\n",
    "    def set_att(self, att):\n",
    "        self.Attribute = att\n",
    "    def genView(self, dot):\n",
    "        label = self.Attribute\n",
    "        dot.node(str(self), label)\n",
    "        for key, son in self.sons.items():\n",
    "            dot.edge(str(self), str(son), label=key)\n",
    "            son.genView(dot)\n",
    "   "
   ]
  },
  {
   "cell_type": "code",
   "execution_count": 11,
   "metadata": {},
   "outputs": [],
   "source": [
    "def get_entropy(data,target):\n",
    "    n = len(data)\n",
    "    acc = 0\n",
    "    for c  in data[target].value_counts():\n",
    "        acc -= c/n * np.log2(c/n)\n",
    "    return acc\n",
    "        \n",
    "    \n",
    "    "
   ]
  },
  {
   "cell_type": "code",
   "execution_count": 12,
   "metadata": {},
   "outputs": [],
   "source": [
    "def ID3(data, target, func_ent):\n",
    "    root = Tree()\n",
    "    if (len(set(data[target])) == 1 ):\n",
    "        root.set_att(data[target].values[0])     \n",
    "    else:\n",
    "        lis_ent = []\n",
    "        for elt in data:\n",
    "            if(elt == target):\n",
    "                lis_ent.append(np.inf)\n",
    "                continue\n",
    "            ent = 0\n",
    "            l = [x for _,x in data.groupby(elt)]\n",
    "            for d in l:\n",
    "                ent += func_ent(d, target)\n",
    "            lis_ent.append(ent)\n",
    "            indop = np.argmin(lis_ent)        \n",
    "            optimal = data.columns[indop]\n",
    "            root.set_att(optimal)\n",
    "        for d in [(att, x) for att,x in data.groupby(optimal)]:\n",
    "            root.add_son(ID3(d[1].loc[:, d[1].columns != optimal], target, func_ent), d[0])\n",
    "    return root"
   ]
  },
  {
   "cell_type": "code",
   "execution_count": 13,
   "metadata": {},
   "outputs": [
    {
     "data": {
      "text/plain": [
       "'Digraph.gv.pdf'"
      ]
     },
     "execution_count": 13,
     "metadata": {},
     "output_type": "execute_result"
    }
   ],
   "source": [
    "target = 'PlayTennis'\n",
    "tree = ID3(df, target, get_entropy)\n",
    "dot = Digraph(comment=\"Decision tree\")\n",
    "tree.genView(dot)\n",
    "dot.view(cleanup=True)"
   ]
  },
  {
   "cell_type": "code",
   "execution_count": 14,
   "metadata": {},
   "outputs": [
    {
     "data": {
      "text/plain": [
       "'Digraph.gv.pdf'"
      ]
     },
     "execution_count": 14,
     "metadata": {},
     "output_type": "execute_result"
    }
   ],
   "source": [
    "target2 = 'EDIBLE'\n",
    "tree2 = ID3(df2, target2, get_entropy)\n",
    "dot = Digraph(comment=\"Decision tree\")\n",
    "tree2.genView(dot)\n",
    "dot.view(cleanup=True)"
   ]
  },
  {
   "cell_type": "code",
   "execution_count": null,
   "metadata": {},
   "outputs": [],
   "source": []
  }
 ],
 "metadata": {
  "kernelspec": {
   "display_name": "Python 3",
   "language": "python",
   "name": "python3"
  },
  "language_info": {
   "codemirror_mode": {
    "name": "ipython",
    "version": 3
   },
   "file_extension": ".py",
   "mimetype": "text/x-python",
   "name": "python",
   "nbconvert_exporter": "python",
   "pygments_lexer": "ipython3",
   "version": "3.5.2"
  }
 },
 "nbformat": 4,
 "nbformat_minor": 2
}
