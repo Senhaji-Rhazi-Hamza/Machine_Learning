{
 "cells": [
  {
   "cell_type": "markdown",
   "metadata": {},
   "source": [
    "# What is about\n",
    "Here we gonna see an implementation of PCA-python, compare to scikit-learn the eigvals\n",
    "and the data projected, then we gonna see an implementation of KernelPCA, using a \n",
    "linear kernel, and compare result to scikit, then we gonna also see a plot comparaison\n",
    "that shows how KernelPCA seperate Data that seems inseparable"
   ]
  },
  {
   "cell_type": "markdown",
   "metadata": {},
   "source": [
    "## Data import for test"
   ]
  },
  {
   "cell_type": "code",
   "execution_count": 1,
   "metadata": {},
   "outputs": [
    {
     "data": {
      "text/html": [
       "<div>\n",
       "<style scoped>\n",
       "    .dataframe tbody tr th:only-of-type {\n",
       "        vertical-align: middle;\n",
       "    }\n",
       "\n",
       "    .dataframe tbody tr th {\n",
       "        vertical-align: top;\n",
       "    }\n",
       "\n",
       "    .dataframe thead th {\n",
       "        text-align: right;\n",
       "    }\n",
       "</style>\n",
       "<table border=\"1\" class=\"dataframe\">\n",
       "  <thead>\n",
       "    <tr style=\"text-align: right;\">\n",
       "      <th></th>\n",
       "      <th>sepal_len</th>\n",
       "      <th>sepal_wid</th>\n",
       "      <th>petal_len</th>\n",
       "      <th>petal_wid</th>\n",
       "      <th>class</th>\n",
       "    </tr>\n",
       "  </thead>\n",
       "  <tbody>\n",
       "    <tr>\n",
       "      <th>145</th>\n",
       "      <td>6.7</td>\n",
       "      <td>3.0</td>\n",
       "      <td>5.2</td>\n",
       "      <td>2.3</td>\n",
       "      <td>Iris-virginica</td>\n",
       "    </tr>\n",
       "    <tr>\n",
       "      <th>146</th>\n",
       "      <td>6.3</td>\n",
       "      <td>2.5</td>\n",
       "      <td>5.0</td>\n",
       "      <td>1.9</td>\n",
       "      <td>Iris-virginica</td>\n",
       "    </tr>\n",
       "    <tr>\n",
       "      <th>147</th>\n",
       "      <td>6.5</td>\n",
       "      <td>3.0</td>\n",
       "      <td>5.2</td>\n",
       "      <td>2.0</td>\n",
       "      <td>Iris-virginica</td>\n",
       "    </tr>\n",
       "    <tr>\n",
       "      <th>148</th>\n",
       "      <td>6.2</td>\n",
       "      <td>3.4</td>\n",
       "      <td>5.4</td>\n",
       "      <td>2.3</td>\n",
       "      <td>Iris-virginica</td>\n",
       "    </tr>\n",
       "    <tr>\n",
       "      <th>149</th>\n",
       "      <td>5.9</td>\n",
       "      <td>3.0</td>\n",
       "      <td>5.1</td>\n",
       "      <td>1.8</td>\n",
       "      <td>Iris-virginica</td>\n",
       "    </tr>\n",
       "  </tbody>\n",
       "</table>\n",
       "</div>"
      ],
      "text/plain": [
       "     sepal_len  sepal_wid  petal_len  petal_wid           class\n",
       "145        6.7        3.0        5.2        2.3  Iris-virginica\n",
       "146        6.3        2.5        5.0        1.9  Iris-virginica\n",
       "147        6.5        3.0        5.2        2.0  Iris-virginica\n",
       "148        6.2        3.4        5.4        2.3  Iris-virginica\n",
       "149        5.9        3.0        5.1        1.8  Iris-virginica"
      ]
     },
     "execution_count": 1,
     "metadata": {},
     "output_type": "execute_result"
    }
   ],
   "source": [
    "import pandas as pd\n",
    "import numpy as np\n",
    "from sklearn.decomposition import PCA as sklearnPCA\n",
    "from sklearn.decomposition import KernelPCA\n",
    "\n",
    "df = pd.read_csv(\n",
    "    filepath_or_buffer='https://archive.ics.uci.edu/ml/machine-learning-databases/iris/iris.data', \n",
    "    header=None, \n",
    "    sep=',')\n",
    "\n",
    "df.columns=['sepal_len', 'sepal_wid', 'petal_len', 'petal_wid', 'class']\n",
    "df.dropna(how=\"all\", inplace=True) # drops the empty line at file-end\n",
    "\n",
    "df.tail()\n"
   ]
  },
  {
   "cell_type": "code",
   "execution_count": null,
   "metadata": {},
   "outputs": [],
   "source": [
    "#We select just 6 values to make te comparaisons simple\n",
    "X = df.iloc[:6,:-1].values\n",
    "X"
   ]
  },
  {
   "cell_type": "markdown",
   "metadata": {},
   "source": [
    "## Scikit-learn PCA"
   ]
  },
  {
   "cell_type": "code",
   "execution_count": null,
   "metadata": {},
   "outputs": [],
   "source": [
    "sklearn_pca = sklearnPCA(n_components=3)\n",
    "sklearn_proj = sklearn_pca.fit_transform(X)\n",
    "eigvalskl = sklearn_pca.explained_variance_\n",
    "print(\"eig values \", eigvalskl)\n",
    "print(\"data sklearn projected \\n\", sklearn_proj)"
   ]
  },
  {
   "cell_type": "markdown",
   "metadata": {},
   "source": [
    "## Implem PCA"
   ]
  },
  {
   "cell_type": "code",
   "execution_count": null,
   "metadata": {},
   "outputs": [],
   "source": [
    "#in this implem we consider each row data as a column vector(N,1) instead of row vector(1,N)\n",
    "def myPCA(data, n_comp=3):\n",
    "    #Center Data\n",
    "    d= data - data.mean(axis = 1).reshape(data.shape[0], 1)\n",
    "    c = np.cov(d)\n",
    "    eigvals, eigvect = np.linalg.eigh(c)\n",
    "    ind = np.argsort(eigvals)\n",
    "    ind = ind[::-1]\n",
    "    eigvals = eigvals[ind]\n",
    "    eigvect = eigvect[:,ind]\n",
    "    data_projected = (d.T @ eigvect[:,:n_comp]).T\n",
    "    return eigvals[:n_comp], eigvect[:,:n_comp], data_projected"
   ]
  },
  {
   "cell_type": "code",
   "execution_count": null,
   "metadata": {},
   "outputs": [],
   "source": [
    "#X.T to transform rows to columns\n",
    "pca = myPCA(X.T)\n",
    "eigvals = pca[0]\n",
    "eigvec = pca[1]\n",
    "data_proj = pca[2]"
   ]
  },
  {
   "cell_type": "code",
   "execution_count": null,
   "metadata": {},
   "outputs": [],
   "source": [
    "print(\"eig values \",eigvals)\n",
    "print(\"data sklearn projected \\n\", data_proj.T)"
   ]
  },
  {
   "cell_type": "markdown",
   "metadata": {},
   "source": [
    "### Comparaison with scikit"
   ]
  },
  {
   "cell_type": "code",
   "execution_count": null,
   "metadata": {},
   "outputs": [],
   "source": [
    "assert(np.allclose(eigvals, eigvalskl)), \"the value are not eaquals\"\n",
    "#We use absolute values because the signs of the eigvecs are arbitrary since the axis x1 is the same as axis -x1\n",
    "assert(np.allclose(np.abs(data_proj.T),np.abs(sklearn_proj))), \"the projected data are not conform \""
   ]
  },
  {
   "cell_type": "markdown",
   "metadata": {},
   "source": [
    "## Kernel PCA"
   ]
  },
  {
   "cell_type": "markdown",
   "metadata": {},
   "source": [
    "## Kernels implem"
   ]
  },
  {
   "cell_type": "code",
   "execution_count": 11,
   "metadata": {},
   "outputs": [],
   "source": [
    "def linear_kernel(x1, x2, args=None):\n",
    "    return x1.T.dot(x2)\n",
    "def rbf_kernel(x1, x2, args):\n",
    "    return np.exp(-args * (x1 - x2).T.dot(x1 - x2))\n",
    "    "
   ]
  },
  {
   "cell_type": "markdown",
   "metadata": {},
   "source": [
    "### Kernel PCA implem"
   ]
  },
  {
   "cell_type": "code",
   "execution_count": 12,
   "metadata": {},
   "outputs": [],
   "source": [
    "###Gram Matrix implem where K = (K(Xi,Xj))\n",
    "def gram(data, kernel, args=None):\n",
    "    n_features, n_samples  = data.shape\n",
    "    Gram = np.ones((n_samples, n_samples))\n",
    "    for i in range(n_samples):\n",
    "        for j in range(n_samples):\n",
    "            Gram[i,j] = kernel(data[:,i], data[:,j], args)\n",
    "    return Gram\n",
    "            "
   ]
  },
  {
   "cell_type": "code",
   "execution_count": 13,
   "metadata": {},
   "outputs": [],
   "source": [
    "def kernel_pca(data, kernel, args=None, n_comp=3):\n",
    "    N = data.shape[1]\n",
    "    A = np.ones((N,N)) * 1/N\n",
    "    G = gram(data, kernel, args)\n",
    "    G_norm =  G - A @ G - G @ A + A @ G @ A\n",
    "    eigvals , eigvecs = np.linalg.eigh(G_norm)\n",
    "    #normalisation of the eigvectors, see the explanation in murphys book\n",
    "    eigvecs = eigvecs @ np.diag(1/np.sqrt(np.abs(eigvals)))\n",
    "    idx = np.argsort(eigvals)[::-1]\n",
    "    #We divide by N-1 because in np.cov the implem use estimators division via the arg bias (see doc and wikipedia)\n",
    "    eigvals = eigvals[idx] * 1/ (N - 1)\n",
    "    eigvecs = eigvecs[:,idx]\n",
    "    data_proj = eigvecs.T.dot(G_norm)\n",
    "    return eigvals[:n_comp] , eigvecs[:,:n_comp], data_proj[:n_comp]\n",
    "    "
   ]
  },
  {
   "cell_type": "markdown",
   "metadata": {},
   "source": [
    "### Scikit comparaison"
   ]
  },
  {
   "cell_type": "code",
   "execution_count": null,
   "metadata": {},
   "outputs": [],
   "source": [
    "keigvals, keigvecs, kdata_proj = kernel_pca(X.T, linear_kernel)\n",
    "kpca = KernelPCA(kernel=\"linear\", n_components=3)\n",
    "data_skpca_proj = kpca.fit_transform(X)"
   ]
  },
  {
   "cell_type": "code",
   "execution_count": null,
   "metadata": {},
   "outputs": [],
   "source": []
  },
  {
   "cell_type": "code",
   "execution_count": null,
   "metadata": {},
   "outputs": [],
   "source": [
    "assert(np.allclose(eigvals,keigvals)), \"the eigvals are not conform\"\n",
    "assert(np.allclose(np.abs(data_skpca_proj),np.abs(sklearn_proj))), \"the linear kernel doesnt give the same result as normal pca \"\n",
    "assert(np.allclose(np.abs(kdata_proj.T),np.abs(data_skpca_proj))), \"the projected data are not conform \""
   ]
  },
  {
   "cell_type": "markdown",
   "metadata": {},
   "source": [
    "###  Utility of KernelPCA"
   ]
  },
  {
   "cell_type": "code",
   "execution_count": 16,
   "metadata": {},
   "outputs": [],
   "source": [
    "from sklearn.datasets import make_circles\n",
    "\n",
    "np.random.seed(0)\n",
    "\n",
    "XC, y = make_circles(n_samples=400, factor=.3, noise=.05)\n",
    "XC = XC.T"
   ]
  },
  {
   "cell_type": "code",
   "execution_count": 19,
   "metadata": {},
   "outputs": [],
   "source": [
    "kvals, kpcs, Xkpca = kernel_pca(XC, rbf_kernel,args = 10)"
   ]
  },
  {
   "cell_type": "code",
   "execution_count": 21,
   "metadata": {},
   "outputs": [
    {
     "data": {
      "image/png": "[encoded data removed]",
      "text/plain": [
       "<matplotlib.figure.Figure at 0x7f8d97613668>"
      ]
     },
     "metadata": {},
     "output_type": "display_data"
    }
   ],
   "source": [
    "import matplotlib.pyplot as plt\n",
    "plt.figure()\n",
    "\n",
    "plt.subplot(1, 2, 1, aspect='equal')\n",
    "plt.title(\"Original space\")\n",
    "reds = y == 0\n",
    "blues = y == 1\n",
    "\n",
    "plt.scatter(XC[0, reds], XC[1, reds], c=\"red\",\n",
    "            s=20, edgecolor='k')\n",
    "plt.scatter(XC[0, blues], XC[1, blues], c=\"blue\",\n",
    "            s=20, edgecolor='k')\n",
    "plt.xlabel(\"$x_1$\")\n",
    "plt.ylabel(\"$x_2$\")\n",
    "\n",
    "plt.subplot(1, 2, 2, aspect='equal')\n",
    "plt.scatter(Xkpca[0, reds], Xkpca[1, reds], c=\"red\",\n",
    "            s=20, edgecolor='k')\n",
    "plt.scatter(Xkpca[0, blues], Xkpca[1, blues], c=\"blue\",\n",
    "            s=20, edgecolor='k')\n",
    "plt.title(\"Projection by KPCA\")\n",
    "plt.xlabel(\"1st principal component\")\n",
    "plt.ylabel(\"2nd component\")\n",
    "plt.show()\n"
   ]
  },
  {
   "cell_type": "markdown",
   "metadata": {},
   "source": [
    "## Results and Comments"
   ]
  },
  {
   "cell_type": "markdown",
   "metadata": {},
   "source": [
    "We see clearly that by using kernel PCA we have seperated linearly in a feature space data that are not linearly in the first space, then when we project we see that we have a seperation see sckitlearn doc for more details http://scikit-learn.org/stable/auto_examples/decomposition/plot_kernel_pca.html#sphx-glr-auto-examples-decomposition-plot-kernel-pca-py"
   ]
  },
  {
   "cell_type": "code",
   "execution_count": null,
   "metadata": {},
   "outputs": [],
   "source": []
  }
 ],
 "metadata": {
  "kernelspec": {
   "display_name": "Python 3",
   "language": "python",
   "name": "python3"
  },
  "language_info": {
   "codemirror_mode": {
    "name": "ipython",
    "version": 3
   },
   "file_extension": ".py",
   "mimetype": "text/x-python",
   "name": "python",
   "nbconvert_exporter": "python",
   "pygments_lexer": "ipython3",
   "version": "3.5.2"
  }
 },
 "nbformat": 4,
 "nbformat_minor": 2
}
